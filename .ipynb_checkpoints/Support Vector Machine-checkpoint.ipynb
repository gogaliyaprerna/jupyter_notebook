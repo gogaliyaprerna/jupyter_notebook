{
 "cells": [
  {
   "cell_type": "code",
   "execution_count": null,
   "id": "177dc055-21d0-4893-971e-9edb0b96def2",
   "metadata": {},
   "outputs": [],
   "source": [
    "import pandas as pd\n",
    "import seaborn as sns\n",
    "import matplotlib.pyplot as plt\n",
    "%matplotlib inline\n",
    "import numpy as np\n",
    "import warnings\n",
    "warnings.filterwarnings(\"ignore\"),\n",
    "from sklearn.model_selection import train_test_split\n",
    "from sklearn.preprocessing import StandardScaler\n",
    "from sklearn.metrics import classification_report,confusion_matrix, accuracy_score\n",
    "from sklearn.model_selection import cross_val_score\n",
    "from sklearn.model_selection import GridSearchCV"
   ]
  },
  {
   "cell_type": "code",
   "execution_count": null,
   "id": "5f20874b-0e9d-431b-aefc-635f143879a7",
   "metadata": {},
   "outputs": [],
   "source": [
    "df = pd.read_csv(\"winequality-red.csv\")\n",
    "df.head()"
   ]
  },
  {
   "cell_type": "markdown",
   "id": "a2b70845-b36e-449b-adaf-c976f75e1962",
   "metadata": {},
   "source": [
    "**EDA**"
   ]
  },
  {
   "cell_type": "code",
   "execution_count": null,
   "id": "f54bbaf7-3228-4ccc-8f6a-ca1fd83f23e4",
   "metadata": {},
   "outputs": [],
   "source": [
    "df.info()"
   ]
  },
  {
   "cell_type": "code",
   "execution_count": null,
   "id": "db33fcd6-57e2-407a-8284-465d9d08a594",
   "metadata": {},
   "outputs": [],
   "source": [
    "df.quality.value_counts()"
   ]
  },
  {
   "cell_type": "code",
   "execution_count": null,
   "id": "644c76c0-8a25-481f-bb1f-52d82492c02b",
   "metadata": {},
   "outputs": [],
   "source": [
    "df.columns[:-1]"
   ]
  },
  {
   "cell_type": "code",
   "execution_count": null,
   "id": "751c1a5b-5872-48ce-b1a6-6b84915b0a98",
   "metadata": {},
   "outputs": [],
   "source": [
    "title_font = {\"family\" : \"Times New Roman\", \"color\" : \"darkred\", \"weight\" : \"bold\", \"size\" : 15}\n",
    "axis_font = {\"family\" : \"Times New Roman\", \"color\" : \"darkblue\", \"weight\" : \"bold\", \"size\" : 13}\n",
    "\n",
    "for i in df.columns[:-1]:\n",
    "    plt.figure(figsize = (10,6))\n",
    "    sns.barplot(x = 'quality', y = i, data = df,palette = \"inferno\")\n",
    "        \n",
    "    plt.title(\"quality -\" + i , fontdict = title_font)\n",
    "    plt.xlabel(\"quality\", fontdict = axis_font)\n",
    "    plt.ylabel(i, fontdict = axis_font)\n",
    "    \n",
    "    plt.tight_layout()\n",
    "    plt.show()"
   ]
  },
  {
   "cell_type": "code",
   "execution_count": null,
   "id": "2635d8fb-7531-4e87-b9c6-0792cc85a69f",
   "metadata": {},
   "outputs": [],
   "source": [
    "plt.figure(figsize = (15,9))\n",
    "sns.heatmap(df.corr() , cmap =\"inferno\", annot =True)\n",
    "plt.show()"
   ]
  },
  {
   "cell_type": "markdown",
   "id": "d42b2402-557c-46a4-b380-2c0607d14417",
   "metadata": {},
   "source": [
    "**Prepration of Modeling**"
   ]
  },
  {
   "cell_type": "code",
   "execution_count": null,
   "id": "da0b357e-55f6-4d73-a198-669ba2b54ff7",
   "metadata": {},
   "outputs": [],
   "source": [
    "df.drop([\"residual sugar\", \"free sulfur dioxide\", \"pH\"], axis = 1, inplace = True)"
   ]
  },
  {
   "cell_type": "code",
   "execution_count": null,
   "id": "dc79d41b-d590-45eb-a899-40389b15c5f5",
   "metadata": {},
   "outputs": [],
   "source": [
    "df.head()"
   ]
  },
  {
   "cell_type": "code",
   "execution_count": null,
   "id": "52a722b6-0655-4e51-b91c-012a6eaa0181",
   "metadata": {},
   "outputs": [],
   "source": [
    "bins = (2,6.5,8)\n",
    "group_names = [\"bad\", \"good\"]\n",
    "df[\"quality\"] = pd.cut(df[\"quality\"],bins = bins , labels = group_names)"
   ]
  },
  {
   "cell_type": "code",
   "execution_count": null,
   "id": "f47e48df-981e-4680-a699-e2c34cf9d3a4",
   "metadata": {},
   "outputs": [],
   "source": [
    "df.head()"
   ]
  },
  {
   "cell_type": "code",
   "execution_count": null,
   "id": "163dbc17-1d66-4e81-975e-a1ed005a5b35",
   "metadata": {},
   "outputs": [],
   "source": [
    "sns.countplot(df[\"quality\"])\n",
    "plt.show()"
   ]
  },
  {
   "cell_type": "code",
   "execution_count": null,
   "id": "81f11dce-ee10-40af-8b2d-7821270be6b9",
   "metadata": {},
   "outputs": [],
   "source": [
    "from sklearn.preprocessing import LabelEncoder"
   ]
  },
  {
   "cell_type": "code",
   "execution_count": null,
   "id": "04012ff7-c29c-4815-b217-d73223fceafb",
   "metadata": {},
   "outputs": [],
   "source": [
    "new_quality = LabelEncoder()"
   ]
  },
  {
   "cell_type": "code",
   "execution_count": null,
   "id": "38033375-693c-4878-8164-7edb6c959460",
   "metadata": {},
   "outputs": [],
   "source": [
    "df[\"quality\"] = new_quality.fit_transform(df[\"quality\"])"
   ]
  },
  {
   "cell_type": "code",
   "execution_count": null,
   "id": "dbc4b584-433a-4362-a79a-99be18eb1a81",
   "metadata": {},
   "outputs": [],
   "source": [
    "df.head()"
   ]
  },
  {
   "cell_type": "code",
   "execution_count": null,
   "id": "aad25abb-a1d2-40c3-b1d5-9a54e38b515b",
   "metadata": {},
   "outputs": [],
   "source": [
    "df['quality'].value_counts()"
   ]
  },
  {
   "cell_type": "code",
   "execution_count": null,
   "id": "b475aa5c-3340-488c-b26a-768d83d590f0",
   "metadata": {},
   "outputs": [],
   "source": [
    "X = df.drop([\"quality\"],axis = 1)\n",
    "y=df[\"quality\"]"
   ]
  },
  {
   "cell_type": "code",
   "execution_count": null,
   "id": "5ddeda28-e5d7-4a11-9d87-01b6ee56e79c",
   "metadata": {},
   "outputs": [],
   "source": [
    "X_train,X_test,y_train,y_test = train_test_split(X,y, test_size =0.2 ,random_state = 42)"
   ]
  },
  {
   "cell_type": "markdown",
   "id": "6feb92ca-70e8-44e8-96c5-bbea9f295911",
   "metadata": {},
   "source": [
    "**Scalling**"
   ]
  },
  {
   "cell_type": "code",
   "execution_count": null,
   "id": "37e065aa-1b7c-4d13-8af1-36bab0cf7e45",
   "metadata": {},
   "outputs": [],
   "source": [
    "scaler = StandardScaler()"
   ]
  },
  {
   "cell_type": "code",
   "execution_count": null,
   "id": "1500afb9-41ec-4ef2-bc14-8a3f12f8af4b",
   "metadata": {},
   "outputs": [],
   "source": [
    "X_train =scaler.fit_transform(x_train)\n",
    "X_test = scaler.transform(x_test)"
   ]
  },
  {
   "cell_type": "markdown",
   "id": "9196b42d-f343-4a7a-b8a7-4a6b68bd8dd8",
   "metadata": {},
   "source": [
    "**SVM Modelling**"
   ]
  },
  {
   "cell_type": "code",
   "execution_count": null,
   "id": "6ad90203-f860-464f-9441-63df74ed1079",
   "metadata": {},
   "outputs": [],
   "source": [
    "from sklearn.svm import SVC"
   ]
  },
  {
   "cell_type": "code",
   "execution_count": null,
   "id": "4d94a629-0974-4449-b5d2-2da3dccc06a7",
   "metadata": {},
   "outputs": [],
   "source": [
    "svc_model = SVC() "
   ]
  },
  {
   "cell_type": "code",
   "execution_count": null,
   "id": "4b254b92-f530-4810-90ad-6b9f6f5c93ef",
   "metadata": {},
   "outputs": [],
   "source": [
    "svc_model.fit(X_train, y_train)"
   ]
  },
  {
   "cell_type": "code",
   "execution_count": null,
   "id": "63a25b48-56c7-40c8-8600-d85f82ddfbb2",
   "metadata": {},
   "outputs": [],
   "source": [
    "y_pred = svc_model.predict(X_test)"
   ]
  },
  {
   "cell_type": "code",
   "execution_count": null,
   "id": "4555e6c3-28f3-4f6a-9812-f3e4a4d5ee03",
   "metadata": {},
   "outputs": [],
   "source": [
    "cv_scores = cross_val_score(estimator=svc_model ,X = X_train , y=y_train , cv = 10)\n",
    "cv_scores.mean()"
   ]
  },
  {
   "cell_type": "code",
   "execution_count": null,
   "id": "e608e9eb-630b-4af6-8049-536984e2e8a2",
   "metadata": {},
   "outputs": [],
   "source": [
    "#confusion matrix \n",
    "cnf_matrix = confusion_matrix(y_test , y_pred)\n",
    "sns.heatmap(cnf_matrix , cmap = \"YlGnBu\" , annot = True,fmt = \"d\")\n",
    "plt.ylabel(\"Acrtual Label\")\n",
    "plt.xlabel (\"Predicted Label\")\n",
    "plt.show()"
   ]
  },
  {
   "cell_type": "code",
   "execution_count": null,
   "id": "a299a626-cb94-4823-ab98-b6be745b6e2d",
   "metadata": {},
   "outputs": [],
   "source": [
    "print(classification_report(y_test , y_pred))"
   ]
  },
  {
   "cell_type": "markdown",
   "id": "ead32a8d-3476-48e0-8ec4-77081056ab55",
   "metadata": {},
   "source": [
    "**Hyperparameter Optimization with python**"
   ]
  },
  {
   "cell_type": "code",
   "execution_count": null,
   "id": "c1a1fa99-fe2e-4e63-9d01-f1a614755d5a",
   "metadata": {},
   "outputs": [],
   "source": [
    "svc_model2 = SVC()"
   ]
  },
  {
   "cell_type": "code",
   "execution_count": null,
   "id": "7a78a436-0ebf-40e4-b071-5cd7929e3c71",
   "metadata": {},
   "outputs": [],
   "source": [
    "param_grid = {'C': [0.1, 1, 10],\n",
    "              'gamma': [1, 0.1, 0.01],\n",
    "              'kernel': ['poly', 'rbf']} "
   ]
  },
  {
   "cell_type": "code",
   "execution_count": null,
   "id": "95545240-7b41-4a1f-9121-8308f59aa735",
   "metadata": {},
   "outputs": [],
   "source": [
    "svc_cv_model = GridSearchCV(estimator = svc_model2, param_grid=param_grid, cv =10)"
   ]
  },
  {
   "cell_type": "code",
   "execution_count": null,
   "id": "5453e971-6f35-4009-afea-b543a8a0c112",
   "metadata": {},
   "outputs": [],
   "source": [
    "svc_cv_model.fit(X_train, y_train)"
   ]
  },
  {
   "cell_type": "code",
   "execution_count": null,
   "id": "2b6774fb-1d2b-462d-b0df-7017daed0e51",
   "metadata": {},
   "outputs": [],
   "source": []
  },
  {
   "cell_type": "code",
   "execution_count": null,
   "id": "8f77b13d-7251-4311-9aac-66717b1d1711",
   "metadata": {},
   "outputs": [],
   "source": []
  },
  {
   "cell_type": "code",
   "execution_count": null,
   "id": "a8aba9e4-678b-4aa4-bfc7-797b779de7f3",
   "metadata": {},
   "outputs": [],
   "source": []
  },
  {
   "cell_type": "code",
   "execution_count": null,
   "id": "4ad279ab-150f-4542-b8df-ac0a4d47f308",
   "metadata": {},
   "outputs": [],
   "source": []
  },
  {
   "cell_type": "code",
   "execution_count": null,
   "id": "52cf82bb-f746-48d7-abe8-4df1d7c48b88",
   "metadata": {},
   "outputs": [],
   "source": []
  },
  {
   "cell_type": "code",
   "execution_count": null,
   "id": "42853424-5d21-4026-b27c-b08ce31d54df",
   "metadata": {},
   "outputs": [],
   "source": []
  },
  {
   "cell_type": "code",
   "execution_count": null,
   "id": "9de5bd29-299b-4e53-8ebe-83b73c5d7f87",
   "metadata": {},
   "outputs": [],
   "source": []
  },
  {
   "cell_type": "code",
   "execution_count": null,
   "id": "78c58dea-b958-4204-aee2-d9834a47e4fb",
   "metadata": {},
   "outputs": [],
   "source": []
  },
  {
   "cell_type": "code",
   "execution_count": null,
   "id": "0c4482ca-f874-4288-bc10-2d575b4046d2",
   "metadata": {},
   "outputs": [],
   "source": []
  },
  {
   "cell_type": "code",
   "execution_count": null,
   "id": "2b0e3145-de04-4e1f-850e-18418e69433a",
   "metadata": {},
   "outputs": [],
   "source": []
  },
  {
   "cell_type": "code",
   "execution_count": null,
   "id": "81e73562-fa15-4998-a4ee-104c99afe797",
   "metadata": {},
   "outputs": [],
   "source": []
  },
  {
   "cell_type": "code",
   "execution_count": null,
   "id": "916cfd19-e140-4a1d-bed2-7797357267de",
   "metadata": {},
   "outputs": [],
   "source": []
  },
  {
   "cell_type": "code",
   "execution_count": null,
   "id": "c106925f-4515-42b6-bd79-79d659c76041",
   "metadata": {},
   "outputs": [],
   "source": []
  },
  {
   "cell_type": "code",
   "execution_count": null,
   "id": "4b33255c-5601-4bb2-b2cc-3c167075a587",
   "metadata": {},
   "outputs": [],
   "source": []
  },
  {
   "cell_type": "code",
   "execution_count": null,
   "id": "2a03bbc0-d214-42b0-a95a-1d7f8036771d",
   "metadata": {},
   "outputs": [],
   "source": []
  },
  {
   "cell_type": "code",
   "execution_count": null,
   "id": "49b99303-e585-4552-b388-fcfa83453ac3",
   "metadata": {},
   "outputs": [],
   "source": []
  },
  {
   "cell_type": "code",
   "execution_count": null,
   "id": "c585959e-afab-4c57-a554-25fb0db89b51",
   "metadata": {},
   "outputs": [],
   "source": []
  },
  {
   "cell_type": "code",
   "execution_count": null,
   "id": "d51a38c5-85c2-4e9f-8b19-072ff8e96717",
   "metadata": {},
   "outputs": [],
   "source": []
  },
  {
   "cell_type": "code",
   "execution_count": null,
   "id": "f0981e1e-ec91-4e5e-b760-475877244b73",
   "metadata": {},
   "outputs": [],
   "source": []
  },
  {
   "cell_type": "code",
   "execution_count": null,
   "id": "22638772-aa55-4b1d-83bf-418b164f4d78",
   "metadata": {},
   "outputs": [],
   "source": []
  },
  {
   "cell_type": "code",
   "execution_count": null,
   "id": "8fe7bc46-9d8c-4db1-a521-cb1300052562",
   "metadata": {},
   "outputs": [],
   "source": []
  },
  {
   "cell_type": "code",
   "execution_count": null,
   "id": "d8696860-856e-4f3d-826f-87f325f09603",
   "metadata": {},
   "outputs": [],
   "source": []
  },
  {
   "cell_type": "code",
   "execution_count": null,
   "id": "fbf14605-1468-4bd3-9b9f-2fce6da6e61a",
   "metadata": {},
   "outputs": [],
   "source": []
  },
  {
   "cell_type": "code",
   "execution_count": null,
   "id": "d96958c2-6ec9-4cf3-b9c2-53095c220ac4",
   "metadata": {},
   "outputs": [],
   "source": []
  },
  {
   "cell_type": "code",
   "execution_count": null,
   "id": "e1ce99f8-7321-430e-ac83-c2f9dbc4630f",
   "metadata": {},
   "outputs": [],
   "source": []
  },
  {
   "cell_type": "code",
   "execution_count": null,
   "id": "5b11b343-8790-449e-bb27-ac2970f7dcaf",
   "metadata": {},
   "outputs": [],
   "source": []
  },
  {
   "cell_type": "code",
   "execution_count": null,
   "id": "ad671ab7-ad6f-4f9f-b71a-c6d3dad57217",
   "metadata": {},
   "outputs": [],
   "source": []
  },
  {
   "cell_type": "code",
   "execution_count": null,
   "id": "01410ea9-8704-4f27-b521-35866c46d5d6",
   "metadata": {},
   "outputs": [],
   "source": []
  },
  {
   "cell_type": "code",
   "execution_count": null,
   "id": "545460c3-b239-4862-b9c3-f9386b985ef9",
   "metadata": {},
   "outputs": [],
   "source": []
  }
 ],
 "metadata": {
  "kernelspec": {
   "display_name": "Python 3 (ipykernel)",
   "language": "python",
   "name": "python3"
  },
  "language_info": {
   "codemirror_mode": {
    "name": "ipython",
    "version": 3
   },
   "file_extension": ".py",
   "mimetype": "text/x-python",
   "name": "python",
   "nbconvert_exporter": "python",
   "pygments_lexer": "ipython3",
   "version": "3.12.7"
  }
 },
 "nbformat": 4,
 "nbformat_minor": 5
}
